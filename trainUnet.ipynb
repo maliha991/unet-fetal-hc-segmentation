{
 "cells": [
  {
   "cell_type": "code",
   "execution_count": 1,
   "metadata": {},
   "outputs": [],
   "source": [
    "from model import *\n",
    "from data import *\n",
    "import numpy as np\n",
    "import matplotlib.pyplot as plt"
   ]
  },
  {
   "cell_type": "markdown",
   "metadata": {},
   "source": [
    "### Data Pre-processing and Training Model "
   ]
  },
  {
   "cell_type": "code",
   "execution_count": 2,
   "metadata": {},
   "outputs": [
    {
     "name": "stderr",
     "output_type": "stream",
     "text": [
      "F:\\Anaconda\\lib\\site-packages\\keras\\optimizer_v2\\adam.py:105: UserWarning: The `lr` argument is deprecated, use `learning_rate` instead.\n",
      "  super(Adam, self).__init__(name, **kwargs)\n",
      "C:\\Users\\User\\AppData\\Local\\Temp/ipykernel_8076/1454731448.py:11: UserWarning: `Model.fit_generator` is deprecated and will be removed in a future version. Please use `Model.fit`, which supports generators.\n",
      "  history = model.fit_generator(myGene,steps_per_epoch=2000,epochs=5,callbacks=[model_checkpoint])\n"
     ]
    },
    {
     "name": "stdout",
     "output_type": "stream",
     "text": [
      "Found 30 images belonging to 1 classes.\n",
      "Found 30 images belonging to 1 classes.\n",
      "Epoch 1/5\n",
      "2000/2000 [==============================] - ETA: 0s - loss: 0.2513 - accuracy: 0.9101 - dice_coefficient: 0.8944 - iou_coef: 0.8094\n",
      "Epoch 00001: loss improved from inf to 0.25127, saving model to unet_fetal.hdf5\n",
      "2000/2000 [==============================] - 7924s 4s/step - loss: 0.2513 - accuracy: 0.9101 - dice_coefficient: 0.8944 - iou_coef: 0.8094\n",
      "Epoch 2/5\n",
      "2000/2000 [==============================] - ETA: 0s - loss: 0.1950 - accuracy: 0.9399 - dice_coefficient: 0.9147 - iou_coef: 0.8428\n",
      "Epoch 00002: loss improved from 0.25127 to 0.19496, saving model to unet_fetal.hdf5\n",
      "2000/2000 [==============================] - 9259s 5s/step - loss: 0.1950 - accuracy: 0.9399 - dice_coefficient: 0.9147 - iou_coef: 0.8428\n",
      "Epoch 3/5\n",
      "2000/2000 [==============================] - ETA: 0s - loss: 0.1663 - accuracy: 0.9526 - dice_coefficient: 0.9254 - iou_coef: 0.8612\n",
      "Epoch 00003: loss improved from 0.19496 to 0.16628, saving model to unet_fetal.hdf5\n",
      "2000/2000 [==============================] - 7732s 4s/step - loss: 0.1663 - accuracy: 0.9526 - dice_coefficient: 0.9254 - iou_coef: 0.8612\n",
      "Epoch 4/5\n",
      "2000/2000 [==============================] - ETA: 0s - loss: 0.1449 - accuracy: 0.9603 - dice_coefficient: 0.9339 - iou_coef: 0.8759\n",
      "Epoch 00004: loss improved from 0.16628 to 0.14493, saving model to unet_fetal.hdf5\n",
      "2000/2000 [==============================] - 7606s 4s/step - loss: 0.1449 - accuracy: 0.9603 - dice_coefficient: 0.9339 - iou_coef: 0.8759\n",
      "Epoch 5/5\n",
      "2000/2000 [==============================] - ETA: 0s - loss: 0.1290 - accuracy: 0.9648 - dice_coefficient: 0.9404 - iou_coef: 0.8875\n",
      "Epoch 00005: loss improved from 0.14493 to 0.12895, saving model to unet_fetal.hdf5\n",
      "2000/2000 [==============================] - 7794s 4s/step - loss: 0.1290 - accuracy: 0.9648 - dice_coefficient: 0.9404 - iou_coef: 0.8875\n"
     ]
    }
   ],
   "source": [
    "data_gen_args = dict(rotation_range=0.2,\n",
    "                    width_shift_range=0.05,\n",
    "                    height_shift_range=0.05,\n",
    "                    shear_range=0.05,\n",
    "                    zoom_range=0.05,\n",
    "                    horizontal_flip=True,\n",
    "                    fill_mode='nearest')\n",
    "myGene = trainGenerator(2,'data/train','image','label',data_gen_args,save_to_dir = \"data/train/aug\")\n",
    "model = unet()\n",
    "model_checkpoint = ModelCheckpoint('unet_fetal.hdf5', monitor='loss',verbose=1, save_best_only=True)\n",
    "history = model.fit_generator(myGene,steps_per_epoch=2000,epochs=5,callbacks=[model_checkpoint])"
   ]
  },
  {
   "cell_type": "markdown",
   "metadata": {},
   "source": [
    "### Storing the Metrics Results"
   ]
  },
  {
   "cell_type": "code",
   "execution_count": 3,
   "metadata": {},
   "outputs": [
    {
     "name": "stdout",
     "output_type": "stream",
     "text": [
      "[0.9101061224937439, 0.9399436712265015, 0.9525507092475891, 0.9602945446968079, 0.964814305305481] [0.8944186568260193, 0.914694607257843, 0.9254475235939026, 0.9338613748550415, 0.9404429793357849] [0.8094292283058167, 0.8427815437316895, 0.8611979484558105, 0.8758546113967896, 0.887509286403656] [0.2512652575969696, 0.1949571967124939, 0.16628478467464447, 0.144926056265831, 0.12895019352436066]\n"
     ]
    }
   ],
   "source": [
    "acc = history.history['accuracy']\n",
    "dice = history.history['dice_coefficient']\n",
    "iou = history.history['iou_coef']\n",
    "loss = history.history['loss']\n",
    "print(acc, dice, iou, loss)"
   ]
  },
  {
   "cell_type": "markdown",
   "metadata": {},
   "source": [
    "### Bar Plot of Metrics Values "
   ]
  },
  {
   "cell_type": "code",
   "execution_count": 19,
   "metadata": {},
   "outputs": [
    {
     "data": {
      "image/png": "[encoded data removed]",
      "text/plain": [
       "<Figure size 432x288 with 1 Axes>"
      ]
     },
     "metadata": {
      "needs_background": "light"
     },
     "output_type": "display_data"
    }
   ],
   "source": [
    "metrics = ['accuracy', 'dice_score', 'iou', 'loss']\n",
    "metrics_result = [max(acc), max(dice), max(iou), min(loss)]\n",
    "colors = ['green','blue','purple','brown']\n",
    "\n",
    "fig = plt.figure(figsize = (6, 4))\n",
    "plt.bar(metrics, metrics_result, color = colors, width = 0.4)\n",
    "plt.xlabel('Performance Metrics')\n",
    "plt.ylabel('Results')\n",
    "plt.title('Results of Performace Metrics')\n",
    "plt.show()"
   ]
  },
  {
   "cell_type": "markdown",
   "metadata": {},
   "source": [
    "### Line Graph of Metrics Values"
   ]
  },
  {
   "cell_type": "code",
   "execution_count": 22,
   "metadata": {},
   "outputs": [
    {
     "name": "stdout",
     "output_type": "stream",
     "text": [
      "[1, 2, 3, 4, 5]\n"
     ]
    },
    {
     "data": {
      "image/png": "[encoded data removed]",
      "text/plain": [
       "<Figure size 432x288 with 1 Axes>"
      ]
     },
     "metadata": {
      "needs_background": "light"
     },
     "output_type": "display_data"
    }
   ],
   "source": [
    "epoch_range = [i for i in range(1, 6)]\n",
    "print(epoch_range)\n",
    "plt.figure(figsize = (6, 4))\n",
    "plt.plot(epoch_range, acc, label = 'Accuracy')\n",
    "plt.plot(epoch_range, dice, label = 'Dice Score')\n",
    "plt.plot(epoch_range, iou, label = 'IoU')\n",
    "plt.plot(epoch_range, loss, label = 'Loss')\n",
    "plt.xticks(epoch_range)\n",
    "plt.legend(loc = 'center right')\n",
    "plt.title('Training Performance')\n",
    "plt.show() "
   ]
  },
  {
   "cell_type": "markdown",
   "metadata": {},
   "source": [
    "### Model Prediction and Saving Results"
   ]
  },
  {
   "cell_type": "code",
   "execution_count": null,
   "metadata": {},
   "outputs": [],
   "source": [
    "testGene = testGenerator(\"data/test\")\n",
    "model = unet()\n",
    "model.load_weights(\"unet_fetal.hdf5\")\n",
    "results = model.predict_generator(testGene,30,verbose=1)\n",
    "saveResult(\"data/result\",results)"
   ]
  }
 ],
 "metadata": {
  "kernelspec": {
   "display_name": "Python 3 (ipykernel)",
   "language": "python",
   "name": "python3"
  },
  "language_info": {
   "codemirror_mode": {
    "name": "ipython",
    "version": 3
   },
   "file_extension": ".py",
   "mimetype": "text/x-python",
   "name": "python",
   "nbconvert_exporter": "python",
   "pygments_lexer": "ipython3",
   "version": "3.9.7"
  }
 },
 "nbformat": 4,
 "nbformat_minor": 2
}
